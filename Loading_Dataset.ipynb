{
  "nbformat": 4,
  "nbformat_minor": 0,
  "metadata": {
    "colab": {
      "provenance": [],
      "authorship_tag": "ABX9TyNDyrdZD85wOoNzvdB6h8wy",
      "include_colab_link": true
    },
    "kernelspec": {
      "name": "python3",
      "display_name": "Python 3"
    },
    "language_info": {
      "name": "python"
    }
  },
  "cells": [
    {
      "cell_type": "markdown",
      "metadata": {
        "id": "view-in-github",
        "colab_type": "text"
      },
      "source": [
        "<a href=\"https://colab.research.google.com/github/clrzr/xai-fraud/blob/main/Loading_Dataset.ipynb\" target=\"_parent\"><img src=\"https://colab.research.google.com/assets/colab-badge.svg\" alt=\"Open In Colab\"/></a>"
      ]
    },
    {
      "cell_type": "code",
      "execution_count": null,
      "metadata": {
        "colab": {
          "base_uri": "https://localhost:8080/"
        },
        "id": "vtEKYlzKzvOD",
        "outputId": "ca471a65-a686-4be3-c73f-aacbebc829de"
      },
      "outputs": [
        {
          "output_type": "stream",
          "name": "stdout",
          "text": [
            "Drive already mounted at /content/drive; to attempt to forcibly remount, call drive.mount(\"/content/drive\", force_remount=True).\n",
            "Archive:  /content/drive/My Drive/Colab Notebooks/archive.zip\n",
            "replace /content/drive/My Drive/Colab Notebooks/User0_credit_card_transactions.csv? [y]es, [n]o, [A]ll, [N]one, [r]ename: A\n",
            "  inflating: /content/drive/My Drive/Colab Notebooks/User0_credit_card_transactions.csv  \n",
            "  inflating: /content/drive/My Drive/Colab Notebooks/credit_card_transactions-ibm_v2.csv  \n",
            "  inflating: /content/drive/My Drive/Colab Notebooks/sd254_cards.csv  \n",
            "  inflating: /content/drive/My Drive/Colab Notebooks/sd254_users.csv  \n"
          ]
        }
      ],
      "source": [
        "# 1.  Dataset: Altman et.al (2019) - https://www.kaggle.com/datasets/ealtman2019/credit-card-transactions/data\n",
        "# 2.  Version of dataset accessed in April 2024 - https://drive.google.com/file/d/1jlLTSxhCC4FJXhsW4MEM-8JWWBJPrAV9/view?usp=drive_link\n",
        "# 3.  Import 2. into your google drive colab notebooks folder to replicate project result.\n",
        "\n",
        "from google.colab import drive\n",
        "drive.mount('/content/drive')\n",
        "# -f  freshen existing files, create none\n",
        "# -n  never overwrite existing files\n",
        "# -q  quiet mode (-qq => quieter)\n",
        "# -o  overwrite files WITHOUT prompting\n",
        "# -d  detination (-d \"/abc/def/123/nnn\")\n",
        "\n",
        "!unzip -o \"/content/drive/My Drive/Colab Notebooks/archive.zip\" -d \"/content/drive/My Drive/Colab Notebooks/Dataset\""
      ]
    }
  ]
}